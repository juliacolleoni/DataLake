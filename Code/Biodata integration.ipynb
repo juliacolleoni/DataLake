{
 "cells": [
  {
   "cell_type": "code",
   "execution_count": null,
   "metadata": {
    "colab": {
     "background_save": true,
     "base_uri": "https://localhost:8080/"
    },
    "id": "8fVtGPqW0Vti"
   },
   "outputs": [],
   "source": [
    "# Install\n",
    "# !python -m pip install --upgrade pip --user\n",
    "# !pip install https://github.com/pandas-profiling/pandas-profiling/archive/master.zip\n",
    "# !pip install import-ipynb\n",
    "# !pip install -U -q PyDrive\n",
    "# !pip install bioservices\n",
    "# !pip install neo4j --user\n",
    "# !pip install neo4jupyter\n",
    "# !pip install msgpack --user\n",
    "# !pip install pandas_read_xml --user\n",
    "# !pip install ontobio --user\n",
    "# !pip install numpy --user\n",
    "# !pip install scipy --user\n",
    "# !pip install libicon v --user\n",
    "# !pip install networkx --user\n",
    "# !pip install python-igraph --user\n",
    "# !pip install ndex-dev --user\n",
    "# !pip install tulip-python --user\n",
    "# !pip install ddot --user\n",
    "# !pip3 install py_stringmatching --user"
   ]
  },
  {
   "cell_type": "code",
   "execution_count": 1,
   "metadata": {
    "colab": {
     "background_save": true
    },
    "id": "CB2SoH7ifZtI"
   },
   "outputs": [
    {
     "name": "stdout",
     "output_type": "stream",
     "text": [
      "display.max_colwidth : int or None\n",
      "    The maximum width in characters of a column in the repr of\n",
      "    a pandas data structure. When the column overflows, a \"...\"\n",
      "    placeholder is embedded in the output. A 'None' value means unlimited.\n",
      "    [default: 50] [currently: 400]\n"
     ]
    }
   ],
   "source": [
    "# Imports\n",
    "import import_ipynb\n",
    "import pandas as pd\n",
    "import numpy as np\n",
    "import sys\n",
    "import os\n",
    "import csv\n",
    "import collections\n",
    "import re\n",
    "import io\n",
    "import json\n",
    "import xml.etree.ElementTree as ET\n",
    "import requests\n",
    "import statistics\n",
    "import scipy.spatial.distance\n",
    "import py_stringmatching as sm\n",
    "from py2neo import Graph\n",
    "import neo4jupyter\n",
    "from neo4j import GraphDatabase\n",
    "\n",
    "from pandas.api.types import is_string_dtype\n",
    "from pandas.api.types import is_numeric_dtype\n",
    "\n",
    "from bioservices import UniProt\n",
    "\n",
    "pd.set_option('max_rows', 99999)\n",
    "pd.set_option('max_colwidth', 400)\n",
    "pd.describe_option('max_colwidth')"
   ]
  },
  {
   "cell_type": "code",
   "execution_count": 2,
   "metadata": {
    "colab": {
     "background_save": true
    },
    "id": "WDisWU_xGPUt"
   },
   "outputs": [
    {
     "name": "stdout",
     "output_type": "stream",
     "text": [
      "importing Jupyter notebook from BIC_DATASETS.ipynb\n",
      "Requirement already satisfied: bioservices in c:\\users\\dellpivotal04\\appdata\\roaming\\python\\python38\\site-packages (1.8.0)\n",
      "Requirement already satisfied: colorlog in c:\\users\\dellpivotal04\\appdata\\roaming\\python\\python38\\site-packages (from bioservices) (6.4.1)\n",
      "Requirement already satisfied: appdirs in c:\\users\\dellpivotal04\\appdata\\roaming\\python\\python38\\site-packages (from bioservices) (1.4.4)\n",
      "Requirement already satisfied: xmltodict in c:\\programdata\\anaconda3\\lib\\site-packages (from bioservices) (0.12.0)\n",
      "Requirement already satisfied: pandas in c:\\programdata\\anaconda3\\lib\\site-packages (from bioservices) (1.1.3)\n",
      "Requirement already satisfied: lxml in c:\\programdata\\anaconda3\\lib\\site-packages (from bioservices) (4.6.1)\n",
      "Requirement already satisfied: grequests in c:\\users\\dellpivotal04\\appdata\\roaming\\python\\python38\\site-packages (from bioservices) (0.6.0)\n",
      "Requirement already satisfied: wrapt in c:\\programdata\\anaconda3\\lib\\site-packages (from bioservices) (1.11.2)\n",
      "Requirement already satisfied: easydev>=0.9.36 in c:\\users\\dellpivotal04\\appdata\\roaming\\python\\python38\\site-packages (from bioservices) (0.12.0)\n",
      "Requirement already satisfied: requests in c:\\users\\dellpivotal04\\appdata\\roaming\\python\\python38\\site-packages (from bioservices) (2.25.1)\n",
      "Requirement already satisfied: beautifulsoup4 in c:\\programdata\\anaconda3\\lib\\site-packages (from bioservices) (4.9.3)\n",
      "Requirement already satisfied: requests-cache in c:\\users\\dellpivotal04\\appdata\\roaming\\python\\python38\\site-packages (from bioservices) (0.8.1)\n",
      "Requirement already satisfied: suds-jurko in c:\\users\\dellpivotal04\\appdata\\roaming\\python\\python38\\site-packages (from bioservices) (0.6)\n",
      "Requirement already satisfied: colorama in c:\\programdata\\anaconda3\\lib\\site-packages (from easydev>=0.9.36->bioservices) (0.4.4)\n",
      "Requirement already satisfied: pexpect in c:\\programdata\\anaconda3\\lib\\site-packages (from easydev>=0.9.36->bioservices) (4.8.0)\n",
      "Requirement already satisfied: soupsieve>1.2 in c:\\programdata\\anaconda3\\lib\\site-packages (from beautifulsoup4->bioservices) (2.0.1)\n",
      "Requirement already satisfied: gevent in c:\\programdata\\anaconda3\\lib\\site-packages (from grequests->bioservices) (20.9.0)\n",
      "Requirement already satisfied: pytz>=2017.2 in c:\\programdata\\anaconda3\\lib\\site-packages (from pandas->bioservices) (2020.1)\n",
      "Requirement already satisfied: python-dateutil>=2.7.3 in c:\\programdata\\anaconda3\\lib\\site-packages (from pandas->bioservices) (2.8.1)\n",
      "Requirement already satisfied: numpy>=1.15.4 in c:\\programdata\\anaconda3\\lib\\site-packages (from pandas->bioservices) (1.19.2)\n",
      "Requirement already satisfied: certifi>=2017.4.17 in c:\\programdata\\anaconda3\\lib\\site-packages (from requests->bioservices) (2020.6.20)\n",
      "Requirement already satisfied: chardet<5,>=3.0.2 in c:\\programdata\\anaconda3\\lib\\site-packages (from requests->bioservices) (3.0.4)\n",
      "Requirement already satisfied: urllib3<1.27,>=1.21.1 in c:\\users\\dellpivotal04\\appdata\\roaming\\python\\python38\\site-packages (from requests->bioservices) (1.26.5)\n",
      "Requirement already satisfied: idna<3,>=2.5 in c:\\programdata\\anaconda3\\lib\\site-packages (from requests->bioservices) (2.10)\n",
      "Requirement already satisfied: cattrs<2.0,>=1.8 in c:\\users\\dellpivotal04\\appdata\\roaming\\python\\python38\\site-packages (from requests-cache->bioservices) (1.8.0)\n",
      "Requirement already satisfied: attrs<22.0,>=21.2 in c:\\users\\dellpivotal04\\appdata\\roaming\\python\\python38\\site-packages (from requests-cache->bioservices) (21.2.0)\n",
      "Requirement already satisfied: url-normalize<2.0,>=1.4 in c:\\users\\dellpivotal04\\appdata\\roaming\\python\\python38\\site-packages (from requests-cache->bioservices) (1.4.3)\n",
      "Requirement already satisfied: six>=1.5 in c:\\programdata\\anaconda3\\lib\\site-packages (from python-dateutil>=2.7.3->pandas->bioservices) (1.15.0)\n",
      "Requirement already satisfied: setuptools in c:\\programdata\\anaconda3\\lib\\site-packages (from gevent->grequests->bioservices) (50.3.1.post20201107)\n",
      "Requirement already satisfied: zope.event in c:\\programdata\\anaconda3\\lib\\site-packages (from gevent->grequests->bioservices) (4.5.0)\n",
      "Requirement already satisfied: zope.interface in c:\\programdata\\anaconda3\\lib\\site-packages (from gevent->grequests->bioservices) (5.1.2)\n",
      "Requirement already satisfied: greenlet>=0.4.17 in c:\\programdata\\anaconda3\\lib\\site-packages (from gevent->grequests->bioservices) (0.4.17)\n",
      "Requirement already satisfied: cffi>=1.12.2 in c:\\programdata\\anaconda3\\lib\\site-packages (from gevent->grequests->bioservices) (1.14.3)\n",
      "Requirement already satisfied: ptyprocess>=0.5 in c:\\users\\dellpivotal04\\appdata\\roaming\\python\\python38\\site-packages (from pexpect->easydev>=0.9.36->bioservices) (0.7.0)\n",
      "Requirement already satisfied: pycparser in c:\\programdata\\anaconda3\\lib\\site-packages (from cffi>=1.12.2->gevent->grequests->bioservices) (2.20)\n",
      "display.max_colwidth : int or None\n",
      "    The maximum width in characters of a column in the repr of\n",
      "    a pandas data structure. When the column overflows, a \"...\"\n",
      "    placeholder is embedded in the output. A 'None' value means unlimited.\n",
      "    [default: 50] [currently: 400]\n"
     ]
    }
   ],
   "source": [
    "from BIC_DATASETS import BioDatasets as biodts"
   ]
  },
  {
   "cell_type": "code",
   "execution_count": 3,
   "metadata": {
    "colab": {
     "background_save": true
    },
    "id": "2iT0OecbZUD8"
   },
   "outputs": [],
   "source": [
    "#%%timeit\n",
    "OMIM = biodts.gen_omim() #1"
   ]
  },
  {
   "cell_type": "code",
   "execution_count": 4,
   "metadata": {
    "colab": {
     "background_save": true
    },
    "id": "bz5W3J6FZCJu"
   },
   "outputs": [],
   "source": [
    "#%%timeit\n",
    "DRUGCENTRAL = biodts.gen_drugcentral() #2"
   ]
  },
  {
   "cell_type": "code",
   "execution_count": 5,
   "metadata": {
    "colab": {
     "background_save": true
    },
    "id": "I0TE2uByGZUU"
   },
   "outputs": [],
   "source": [
    "#%%timeit\n",
    "DISGENET = biodts.gen_disgenet() #3"
   ]
  },
  {
   "cell_type": "code",
   "execution_count": 6,
   "metadata": {
    "colab": {
     "background_save": true
    },
    "id": "KI8gG_2jZDpV"
   },
   "outputs": [],
   "source": [
    "#%%timeit\n",
    "MONDO = biodts.gen_mondo() #4"
   ]
  },
  {
   "cell_type": "code",
   "execution_count": 7,
   "metadata": {
    "colab": {
     "background_save": true
    },
    "id": "NgDkKwS2ZFPX"
   },
   "outputs": [],
   "source": [
    "#%%timeit\n",
    "REACTOME = biodts.gen_reactome() #5"
   ]
  },
  {
   "cell_type": "code",
   "execution_count": 8,
   "metadata": {
    "colab": {
     "background_save": true
    },
    "id": "jnPRd7_yZGmW"
   },
   "outputs": [],
   "source": [
    "#%%timeit\n",
    "DRUGBANK_PROTEIN = biodts.gen_drug_bank_protein() #6"
   ]
  },
  {
   "cell_type": "code",
   "execution_count": 9,
   "metadata": {
    "colab": {
     "background_save": true
    },
    "id": "tgfZ4yoQQLFy"
   },
   "outputs": [],
   "source": [
    "#%%timeit\n",
    "DRUGBANK = biodts.gen_drug_bank() #7"
   ]
  },
  {
   "cell_type": "code",
   "execution_count": 10,
   "metadata": {
    "colab": {
     "background_save": true
    },
    "id": "uFtBa9dWQJMn"
   },
   "outputs": [],
   "source": [
    "#%%timeit\n",
    "UNIPROT = biodts.gen_uniprot() #8"
   ]
  },
  {
   "cell_type": "code",
   "execution_count": 11,
   "metadata": {
    "colab": {
     "background_save": true
    },
    "id": "fbgur6gNL1kW"
   },
   "outputs": [],
   "source": [
    "#%%timeit\n",
    "IID = biodts.gen_iid_human() #9"
   ]
  },
  {
   "cell_type": "markdown",
   "metadata": {
    "id": "cqjznExRtM74"
   },
   "source": [
    "## Neo4J"
   ]
  },
  {
   "cell_type": "code",
   "execution_count": 12,
   "metadata": {
    "colab": {
     "background_save": true
    },
    "id": "LRZLqbjHtM7_"
   },
   "outputs": [],
   "source": [
    "# based on: https://neo4j.com/developer/python/; https://towardsdatascience.com/neo4j-cypher-python-7a919a372be7\n",
    "class Neo4jConnection:\n",
    "    \n",
    "    def __init__(self, uri, user, pwd):\n",
    "        self.__uri = uri\n",
    "        self.__user = user\n",
    "        self.__pwd = pwd\n",
    "        self.__driver = None\n",
    "        try:\n",
    "            self.__driver = GraphDatabase.driver(self.__uri, auth=(self.__user, self.__pwd))\n",
    "        except Exception as e:\n",
    "            print(\"Failed to create the driver:\", e)\n",
    "        \n",
    "    def close(self):\n",
    "        if self.__driver is not None:\n",
    "            self.__driver.close()\n",
    "        \n",
    "    def query(self, query, db=None):\n",
    "        assert self.__driver is not None, \"Driver not initialized!\"\n",
    "        session = None\n",
    "        response = None\n",
    "        try: \n",
    "            session = self.__driver.session(database=db) if db is not None else self.__driver.session() \n",
    "            response = list(session.run(query))\n",
    "        except Exception as e:\n",
    "            print(\"Query failed:\", e)\n",
    "        finally: \n",
    "            if session is not None:\n",
    "                session.close()\n",
    "        return response"
   ]
  },
  {
   "cell_type": "code",
   "execution_count": 36,
   "metadata": {
    "colab": {
     "background_save": true
    },
    "id": "dGCIqFrRtM8E"
   },
   "outputs": [
    {
     "data": {
      "text/plain": [
       "[]"
      ]
     },
     "execution_count": 36,
     "metadata": {},
     "output_type": "execute_result"
    }
   ],
   "source": [
    "# Interacting with Neo4j\n",
    "conn2 = Neo4jConnection(uri=\"bolt://localhost:11003\", user=\"autobiodatasets\", pwd=\"autobiodatasets\")\n",
    "\n",
    "# create a new database, use database, create nodes in Neo4J\n",
    "# conn2.query(\"create database autobiodatasets\")\n",
    "conn2.query(\"use autobiodatasets MATCH (n) RETURN n\")\n",
    "\n",
    "#create all nodes\n",
    "# conn2.query(\"CREATE (UNIPROT:Dataframe {name: 'UNIPROT'}), (IID:Dataframe {name: 'IID'}), (REACTOME:Dataframe {name: 'REACTOME'}), (DRUGBANK:Dataframe {name: 'DRUGBANK'}), (DRUGBANK_PROTEIN:Dataframe {name: 'DRUGBANK_PROTEIN'}), (OMIM:Dataframe {name: 'OMIM'}), (DRUGCENTRAL:Dataframe {name: 'DRUGCENTRAL'}), (DISGENET:Dataframe {name: 'DISGENET'}), (MONDO:Dataframe {name: 'MONDO'})\")\n",
    "\n",
    "# delete all nodes\n",
    "# conn2.query(\"MATCH (a) DELETE (a)\")\n",
    "\n",
    "# delete all relationship\n",
    "conn2.query(\"MATCH (a)<-[r:integrates_with]-(b) DELETE r\")"
   ]
  },
  {
   "cell_type": "code",
   "execution_count": 37,
   "metadata": {},
   "outputs": [
    {
     "data": {
      "application/javascript": [
       "var link = document.createElement(\"link\");\n",
       "\tlink.ref = \"stylesheet\";\n",
       "\tlink.type = \"text/css\";\n",
       "\tlink.href = \"https://cdnjs.cloudflare.com/ajax/libs/vis/4.8.2/vis.css\";\n",
       "\tdocument.head.appendChild(link);\n",
       "require.config({     paths: {         vis: '//cdnjs.cloudflare.com/ajax/libs/vis/4.8.2/vis.min'     } }); require(['vis'], function(vis) {  window.vis = vis; }); "
      ],
      "text/plain": [
       "<IPython.core.display.Javascript object>"
      ]
     },
     "metadata": {},
     "output_type": "display_data"
    },
    {
     "data": {
      "text/html": [
       "<div id=\"8b932f30-9064-4d2c-9cee-e5d061d4b22c\" style=\"height: 400px;\"></div>\n",
       "\n",
       "<script type=\"text/javascript\">\n",
       "\n",
       "    var nodes = [{\"id\": 7, \"label\": \"DISGENET\", \"group\": \"Dataframe\", \"title\": \"Node('Dataframe', name='DISGENET')\"}, {\"id\": 2, \"label\": \"REACTOME\", \"group\": \"Dataframe\", \"title\": \"Node('Dataframe', name='REACTOME')\"}, {\"id\": 0, \"label\": \"UNIPROT\", \"group\": \"Dataframe\", \"title\": \"Node('Dataframe', name='UNIPROT')\"}, {\"id\": 6, \"label\": \"DRUGCENTRAL\", \"group\": \"Dataframe\", \"title\": \"Node('Dataframe', name='DRUGCENTRAL')\"}, {\"id\": 3, \"label\": \"DRUGBANK\", \"group\": \"Dataframe\", \"title\": \"Node('Dataframe', name='DRUGBANK')\"}, {\"id\": 1, \"label\": \"IID\", \"group\": \"Dataframe\", \"title\": \"Node('Dataframe', name='IID')\"}, {\"id\": 8, \"label\": \"MONDO\", \"group\": \"Dataframe\", \"title\": \"Node('Dataframe', name='MONDO')\"}, {\"id\": 5, \"label\": \"OMIM\", \"group\": \"Dataframe\", \"title\": \"Node('Dataframe', name='OMIM')\"}, {\"id\": 4, \"label\": \"DRUGBANK_PROTEIN\", \"group\": \"Dataframe\", \"title\": \"Node('Dataframe', name='DRUGBANK_PROTEIN')\"}];\n",
       "    var edges = [];\n",
       "\n",
       "    var container = document.getElementById(\"8b932f30-9064-4d2c-9cee-e5d061d4b22c\");\n",
       "\n",
       "    var data = {\n",
       "        nodes: nodes,\n",
       "        edges: edges\n",
       "    };\n",
       "\n",
       "    var options = {\n",
       "    nodes: {\n",
       "        shape: 'dot',\n",
       "        size: 25,\n",
       "        font: {\n",
       "            size: 14\n",
       "        }\n",
       "    },\n",
       "    edges: {\n",
       "        font: {\n",
       "            size: 14,\n",
       "            align: 'middle'\n",
       "        },\n",
       "        color: 'gray',\n",
       "        arrows: {\n",
       "            to: {\n",
       "                enabled: true,\n",
       "                scaleFactor: 0.5\n",
       "            }\n",
       "        },\n",
       "        smooth: {\n",
       "            enabled: false\n",
       "        }\n",
       "    },\n",
       "    physics: {\n",
       "        enabled: true\n",
       "        }\n",
       "    };\n",
       "\n",
       "    var network = new vis.Network(container, data, options);\n",
       "\n",
       "</script>\n"
      ],
      "text/plain": [
       "<IPython.core.display.HTML object>"
      ]
     },
     "execution_count": 37,
     "metadata": {},
     "output_type": "execute_result"
    }
   ],
   "source": [
    "#based on https://github.com/merqurio/neo4jupyter\n",
    "#before creating relationships\n",
    "\n",
    "neo4jupyter.init_notebook_mode()\n",
    "graph = Graph(\"bolt://localhost:11003\", auth=(\"autobiodatasets\", \"autobiodatasets\"))\n",
    "neo4jupyter.draw(graph, {\"Dataframe\": \"name\"})"
   ]
  },
  {
   "cell_type": "markdown",
   "metadata": {
    "id": "5UN8cZ4ED0tE"
   },
   "source": [
    "# Main Algorithm"
   ]
  },
  {
   "cell_type": "code",
   "execution_count": 38,
   "metadata": {
    "colab": {
     "background_save": true
    },
    "id": "N8dZhjBnDLXp"
   },
   "outputs": [
    {
     "name": "stdout",
     "output_type": "stream",
     "text": [
      "UNIPROT [\" Entry \"] <--  REACTOME [\" UNIPROT identifier \"] / Overlap:  0.409 / Jaccard:  0.058 / Sørensen-Dice:  0.109 / Tversky:  0.109\n",
      "UNIPROT [\" Entry \"] <--  DRUGCENTRAL [\" ACCESSION \"] / Overlap:  0.829 / Jaccard:  0.004 / Sørensen-Dice:  0.008 / Tversky:  0.008\n",
      "UNIPROT [\" Entry \"] <--  DRUGBANK_PROTEIN [\" uniprot_id \"] / Overlap:  0.909 / Jaccard:  0.008 / Sørensen-Dice:  0.016 / Tversky:  0.016\n",
      "UNIPROT [\" Entry \"] <--  IID [\" uniprot1 \"] / Overlap:  0.953 / Jaccard:  0.030 / Sørensen-Dice:  0.058 / Tversky:  0.058\n",
      "UNIPROT [\" Entry \"] <--  IID [\" uniprot2 \"] / Overlap:  0.960 / Jaccard:  0.031 / Sørensen-Dice:  0.059 / Tversky:  0.059\n",
      "UNIPROT [\" Gene names \"] <--  DISGENET [\" geneSymbol \"] / Overlap:  0.483 / Jaccard:  0.009 / Sørensen-Dice:  0.019 / Tversky:  0.019\n",
      "UNIPROT [\" Gene names \"] <--  OMIM [\" Approved_Symbol \"] / Overlap:  0.466 / Jaccard:  0.015 / Sørensen-Dice:  0.029 / Tversky:  0.029\n",
      "UNIPROT [\" Gene names \"] <--  DRUGCENTRAL [\" GENE \"] / Overlap:  0.486 / Jaccard:  0.002 / Sørensen-Dice:  0.004 / Tversky:  0.004\n",
      "UNIPROT [\" Gene names \"] <--  IID [\" symbol1 \"] / Overlap:  0.488 / Jaccard:  0.017 / Sørensen-Dice:  0.033 / Tversky:  0.033\n",
      "UNIPROT [\" Gene names \"] <--  IID [\" symbol2 \"] / Overlap:  0.484 / Jaccard:  0.017 / Sørensen-Dice:  0.034 / Tversky:  0.034\n",
      "UNIPROT [\" Organism \"] <--  DRUGBANK_PROTEIN [\" organism \"] / Overlap:  0.488 / Jaccard:  0.018 / Sørensen-Dice:  0.036 / Tversky:  0.036\n",
      "REACTOME [\" UNIPROT identifier \"] <--  DRUGCENTRAL [\" ACCESSION \"] / Overlap:  0.624 / Jaccard:  0.019 / Sørensen-Dice:  0.037 / Tversky:  0.037\n",
      "REACTOME [\" UNIPROT identifier \"] <--  DRUGBANK_PROTEIN [\" uniprot_id \"] / Overlap:  0.546 / Jaccard:  0.030 / Sørensen-Dice:  0.059 / Tversky:  0.059\n",
      "REACTOME [\" UNIPROT identifier \"] <--  IID [\" uniprot1 \"] / Overlap:  0.567 / Jaccard:  0.105 / Sørensen-Dice:  0.191 / Tversky:  0.191\n",
      "REACTOME [\" UNIPROT identifier \"] <--  IID [\" uniprot2 \"] / Overlap:  0.565 / Jaccard:  0.107 / Sørensen-Dice:  0.193 / Tversky:  0.193\n",
      "REACTOME [\" Species \"] -->  DRUGCENTRAL [\" ORGANISM \"] / Overlap:  0.750 / Jaccard:  0.051 / Sørensen-Dice:  0.098 / Tversky:  0.098\n",
      "DISGENET [\" geneSymbol \"] -->  OMIM [\" Approved_Symbol \"] / Overlap:  0.915 / Jaccard:  0.536 / Sørensen-Dice:  0.698 / Tversky:  0.698\n",
      "DISGENET [\" geneSymbol \"] <--  DRUGCENTRAL [\" GENE \"] / Overlap:  0.528 / Jaccard:  0.110 / Sørensen-Dice:  0.199 / Tversky:  0.199\n",
      "DISGENET [\" geneSymbol \"] -->  IID [\" symbol1 \"] / Overlap:  0.880 / Jaccard:  0.464 / Sørensen-Dice:  0.634 / Tversky:  0.634\n",
      "DISGENET [\" geneSymbol \"] -->  IID [\" symbol2 \"] / Overlap:  0.898 / Jaccard:  0.469 / Sørensen-Dice:  0.638 / Tversky:  0.638\n",
      "DISGENET [\" diseaseType \"] -->  MONDO [\" lbl \"] / Overlap:  0.667 / Jaccard:  0.000 / Sørensen-Dice:  0.000 / Tversky:  0.000\n",
      "OMIM [\" Approved_Symbol \"] <--  DRUGCENTRAL [\" GENE \"] / Overlap:  0.609 / Jaccard:  0.082 / Sørensen-Dice:  0.152 / Tversky:  0.152\n",
      "OMIM [\" Approved_Symbol \"] -->  IID [\" symbol1 \"] / Overlap:  0.866 / Jaccard:  0.704 / Sørensen-Dice:  0.826 / Tversky:  0.826\n",
      "OMIM [\" Approved_Symbol \"] -->  IID [\" symbol2 \"] / Overlap:  0.885 / Jaccard:  0.717 / Sørensen-Dice:  0.835 / Tversky:  0.835\n",
      "DRUGCENTRAL [\" ACCESSION \"] -->  DRUGBANK_PROTEIN [\" uniprot_id \"] / Overlap:  0.488 / Jaccard:  0.206 / Sørensen-Dice:  0.342 / Tversky:  0.342\n",
      "DRUGCENTRAL [\" ACCESSION \"] -->  IID [\" uniprot1 \"] / Overlap:  0.509 / Jaccard:  0.072 / Sørensen-Dice:  0.134 / Tversky:  0.134\n",
      "DRUGCENTRAL [\" ACCESSION \"] -->  IID [\" uniprot2 \"] / Overlap:  0.510 / Jaccard:  0.071 / Sørensen-Dice:  0.133 / Tversky:  0.133\n",
      "DRUGCENTRAL [\" GENE \"] -->  IID [\" symbol1 \"] / Overlap:  0.615 / Jaccard:  0.076 / Sørensen-Dice:  0.142 / Tversky:  0.142\n",
      "DRUGCENTRAL [\" GENE \"] -->  IID [\" symbol2 \"] / Overlap:  0.617 / Jaccard:  0.075 / Sørensen-Dice:  0.139 / Tversky:  0.139\n",
      "DRUGBANK [\" drugbank_id \"] <--  DRUGBANK_PROTEIN [\" drugbank_id \"] / Overlap:  1.000 / Jaccard:  0.579 / Sørensen-Dice:  0.733 / Tversky:  0.733\n",
      "DRUGBANK_PROTEIN [\" uniprot_id \"] -->  IID [\" uniprot1 \"] / Overlap:  0.583 / Jaccard:  0.147 / Sørensen-Dice:  0.257 / Tversky:  0.257\n",
      "DRUGBANK_PROTEIN [\" uniprot_id \"] -->  IID [\" uniprot2 \"] / Overlap:  0.590 / Jaccard:  0.147 / Sørensen-Dice:  0.256 / Tversky:  0.256\n",
      "Wall time: 2h 11min 12s\n"
     ]
    }
   ],
   "source": [
    "%%time\n",
    "np.warnings.filterwarnings('ignore', category=np.VisibleDeprecationWarning)\n",
    "\n",
    "def changeListToString(value):\n",
    "  result=value\n",
    "  if type(value) is list or type(value) is dict:\n",
    "    result=' '.join(map(str,value))\n",
    "  return result\n",
    "\n",
    "UNIPROT.name_ = \"UNIPROT\"\n",
    "REACTOME.name_ = \"REACTOME\"\n",
    "DISGENET.name_ = \"DISGENET\"\n",
    "OMIM.name_ = \"OMIM\"\n",
    "DRUGCENTRAL.name_ = \"DRUGCENTRAL\"\n",
    "MONDO.name_ = \"MONDO\"\n",
    "DRUGBANK.name_ = \"DRUGBANK\"\n",
    "DRUGBANK_PROTEIN.name_ = \"DRUGBANK_PROTEIN\"\n",
    "IID.name_ = \"IID\"\n",
    "\n",
    "unique_values_allow = 2\n",
    "compare_values_numeric = False\n",
    "datasets = [UNIPROT, REACTOME, DISGENET, OMIM, DRUGCENTRAL, MONDO, DRUGBANK, DRUGBANK_PROTEIN, IID]\n",
    "ds_columns = []\n",
    "\n",
    "\n",
    "for idx1, ds1 in np.ndenumerate(datasets[0:-1]): #for1\n",
    "  ds1.dropna(how='all', axis=1, inplace=True)\n",
    "  countI = 0\n",
    "\n",
    "  while countI < len(ds1.columns): #while1\n",
    "    col_DS1 = ds1.iloc[:,countI]\n",
    "    if compare_values_numeric == False:\n",
    "      if is_numeric_dtype(col_DS1) == True:\n",
    "        countI=countI+1 \n",
    "        continue\n",
    "\n",
    "    name_ds_column_1 = ds1.name_+\".\"+ds1.columns[countI]\n",
    "    col_DS1 = col_DS1.map(lambda x: changeListToString(x)) # if data is 'list' or 'dict' and turn to 'str'\n",
    "    if (len(col_DS1.unique()) <= unique_values_allow) or (any(item in name_ds_column_1 for item in ds_columns)): #if1\n",
    "      countI=countI+1 \n",
    "      continue\n",
    "\n",
    "    else: #else f1\n",
    "      ds_columns.append(name_ds_column_1)\n",
    "   \n",
    "      if col_DS1.isin([0,1]).all() == False: #if2  \n",
    "\n",
    "        for idx2, ds2 in np.ndenumerate(datasets): #for2\n",
    "          ds2.dropna(how='all', axis=1, inplace=True)\n",
    "\n",
    "          if ds1.name_ != ds2.name_: #if3\n",
    "            countII=0\n",
    "            \n",
    "            while countII < len(ds2.columns): #while2\n",
    "              col_DS2 = ds2.iloc[:,countII]\n",
    "              if compare_values_numeric == False:\n",
    "                if is_numeric_dtype(col_DS2) == True:\n",
    "                  countII=countII+1 \n",
    "                  continue\n",
    "              \n",
    "              name_ds_column_2 = ds2.name_+\".\"+ds2.columns[countII]\n",
    "              col_DS2 = col_DS2.map(lambda x: changeListToString(x)) # if data is 'list' or 'dict' and turn to 'str'\n",
    "              if (len(col_DS2.unique()) <= unique_values_allow) or (any(item in name_ds_column_2 for item in ds_columns)): #if4\n",
    "                countII=countII+1 \n",
    "                continue\n",
    "\n",
    "              else: #else if4\n",
    "              \n",
    "                if col_DS2.isin([0,1]).all() == False: #if5\n",
    "                  minimum = min(col_DS1.nunique(), col_DS2.nunique())\n",
    "\n",
    "                  if minimum != 0: #if6\n",
    "\n",
    "                    oc = sm.OverlapCoefficient()                                 # -- the Overlap distance\n",
    "                    overlap = oc.get_raw_score(set(col_DS1), set(col_DS2))\n",
    "\n",
    "                    jac = sm.Jaccard()                                           # -- the Jaccard distance\n",
    "                    jaccard = jac.get_raw_score(set(col_DS1), set(col_DS2))\n",
    "\n",
    "                    dic = sm.Dice()                                              # -- the Sorensen/Dice distance\n",
    "                    dice = dic.get_raw_score(set(col_DS1), set(col_DS2))\n",
    "\n",
    "                    tvi = sm.TverskyIndex()                                      # -- the TverskyIndex distance using Tanimoto coefficient\n",
    "                    tversky = tvi.get_raw_score(set(col_DS1), set(col_DS2))               \n",
    "                    \n",
    "                    if overlap > 0.4 or jaccard > 0.4 or dice > 0.4 or tversky > 0.4: #if7\n",
    "\n",
    "                      if col_DS1.nunique() < col_DS2.nunique(): #if8\n",
    "                        print(ds1.name_, \"[\\\"\", ds1.columns[countI],\"\\\"] --> \", ds2.name_, \"[\\\"\", ds2.columns[countII], \n",
    "                              \"\\\"] / Overlap: \", format(overlap, \".3f\"), \"/ Jaccard: \", format(jaccard, \".3f\"), \"/ Sørensen-Dice: \", format(dice, \".3f\"), \"/ Tversky: \", format(tversky, \".3f\"))\n",
    "                        conn2.query(\"MATCH (a:Dataframe), (b:Dataframe) WHERE a.name = '\"+ds1.name_+\"' AND b.name = '\"+ds2.name_+\"' CREATE (a)-[r:integrates_with {using:\\\"\"+ds1.columns[countI]+\"\\\"}]->(b) RETURN type(r)\")\n",
    "                     \n",
    "                      elif col_DS1.nunique() > col_DS2.nunique(): #else if8\n",
    "                        print(ds1.name_, \"[\\\"\", ds1.columns[countI],\"\\\"] <-- \", ds2.name_, \"[\\\"\", ds2.columns[countII],\n",
    "                              \"\\\"] / Overlap: \", format(overlap, \".3f\"), \"/ Jaccard: \", format(jaccard, \".3f\"), \"/ Sørensen-Dice: \", format(dice, \".3f\"), \"/ Tversky: \", format(tversky, \".3f\"))\n",
    "                        conn2.query(\"MATCH (a:Dataframe), (b:Dataframe) WHERE a.name = '\"+ds1.name_+\"' AND b.name = '\"+ds2.name_+\"' CREATE (a)<-[r:integrates_with {using:\\\"\"+ds2.columns[countII]+\"\\\"}]-(b) RETURN type(r)\")\n",
    "\n",
    "                      elif col_DS1.nunique() == col_DS2.nunique(): #else if8\n",
    "                        print(ds1.name_, \"[\\\"\", ds1.columns[countI],\"\\\"] <--> \", ds2.name_, \"[\\\"\", ds2.columns[countII],\n",
    "                              \"\\\"] / Overlap: \", format(overlap, \".3f\"), \"/ Jaccard: \", format(jaccard, \".3f\"), \"/ Sørensen-Dice: \", format(dice, \".3f\"), \"/ Tversky: \", format(tversky, \".3f\"))\n",
    "                        conn2.query(\"MATCH (a:Dataframe), (b:Dataframe) WHERE a.name = '\"+ds1.name_+\"' AND b.name = '\"+ds2.name_+\"' CREATE (a)<-[r:integrates_with {using:\\\"\"+ds1.columns[countI]+\"\\\"}]->(b) RETURN type(r)\")\n",
    "\n",
    "              countII=countII+1\n",
    "  \n",
    "    countI=countI+1                      "
   ]
  },
  {
   "cell_type": "code",
   "execution_count": 40,
   "metadata": {
    "colab": {
     "background_save": true
    },
    "id": "4h4_F-QECEyU"
   },
   "outputs": [
    {
     "data": {
      "application/javascript": [
       "var link = document.createElement(\"link\");\n",
       "\tlink.ref = \"stylesheet\";\n",
       "\tlink.type = \"text/css\";\n",
       "\tlink.href = \"https://cdnjs.cloudflare.com/ajax/libs/vis/4.8.2/vis.css\";\n",
       "\tdocument.head.appendChild(link);\n",
       "require.config({     paths: {         vis: '//cdnjs.cloudflare.com/ajax/libs/vis/4.8.2/vis.min'     } }); require(['vis'], function(vis) {  window.vis = vis; }); "
      ],
      "text/plain": [
       "<IPython.core.display.Javascript object>"
      ]
     },
     "metadata": {},
     "output_type": "display_data"
    },
    {
     "data": {
      "text/html": [
       "<div id=\"b6ce1ed5-5f31-4ad4-970a-01aca5a177c2\" style=\"height: 400px;\"></div>\n",
       "\n",
       "<script type=\"text/javascript\">\n",
       "\n",
       "    var nodes = [{\"id\": 2, \"label\": \"REACTOME\", \"group\": \"Dataframe\", \"title\": \"Node('Dataframe', name='REACTOME')\"}, {\"id\": 6, \"label\": \"DRUGCENTRAL\", \"group\": \"Dataframe\", \"title\": \"Node('Dataframe', name='DRUGCENTRAL')\"}, {\"id\": 0, \"label\": \"UNIPROT\", \"group\": \"Dataframe\", \"title\": \"Node('Dataframe', name='UNIPROT')\"}, {\"id\": 5, \"label\": \"OMIM\", \"group\": \"Dataframe\", \"title\": \"Node('Dataframe', name='OMIM')\"}, {\"id\": 1, \"label\": \"IID\", \"group\": \"Dataframe\", \"title\": \"Node('Dataframe', name='IID')\"}, {\"id\": 4, \"label\": \"DRUGBANK_PROTEIN\", \"group\": \"Dataframe\", \"title\": \"Node('Dataframe', name='DRUGBANK_PROTEIN')\"}, {\"id\": 7, \"label\": \"DISGENET\", \"group\": \"Dataframe\", \"title\": \"Node('Dataframe', name='DISGENET')\"}, {\"id\": 3, \"label\": \"DRUGBANK\", \"group\": \"Dataframe\", \"title\": \"Node('Dataframe', name='DRUGBANK')\"}, {\"id\": 8, \"label\": \"MONDO\", \"group\": \"Dataframe\", \"title\": \"Node('Dataframe', name='MONDO')\"}];\n",
       "    var edges = [{\"from\": 2, \"to\": 6, \"label\": \"integrates_with\"}, {\"from\": 2, \"to\": 0, \"label\": \"integrates_with\"}, {\"from\": 5, \"to\": 1, \"label\": \"integrates_with\"}, {\"from\": 5, \"to\": 1, \"label\": \"integrates_with\"}, {\"from\": 5, \"to\": 0, \"label\": \"integrates_with\"}, {\"from\": 6, \"to\": 1, \"label\": \"integrates_with\"}, {\"from\": 6, \"to\": 1, \"label\": \"integrates_with\"}, {\"from\": 6, \"to\": 1, \"label\": \"integrates_with\"}, {\"from\": 6, \"to\": 1, \"label\": \"integrates_with\"}, {\"from\": 6, \"to\": 4, \"label\": \"integrates_with\"}, {\"from\": 6, \"to\": 5, \"label\": \"integrates_with\"}, {\"from\": 6, \"to\": 7, \"label\": \"integrates_with\"}, {\"from\": 6, \"to\": 2, \"label\": \"integrates_with\"}, {\"from\": 6, \"to\": 0, \"label\": \"integrates_with\"}, {\"from\": 6, \"to\": 0, \"label\": \"integrates_with\"}, {\"from\": 4, \"to\": 1, \"label\": \"integrates_with\"}, {\"from\": 4, \"to\": 1, \"label\": \"integrates_with\"}, {\"from\": 4, \"to\": 3, \"label\": \"integrates_with\"}, {\"from\": 4, \"to\": 2, \"label\": \"integrates_with\"}, {\"from\": 4, \"to\": 0, \"label\": \"integrates_with\"}, {\"from\": 4, \"to\": 0, \"label\": \"integrates_with\"}, {\"from\": 7, \"to\": 8, \"label\": \"integrates_with\"}, {\"from\": 7, \"to\": 1, \"label\": \"integrates_with\"}, {\"from\": 7, \"to\": 1, \"label\": \"integrates_with\"}, {\"from\": 7, \"to\": 5, \"label\": \"integrates_with\"}, {\"from\": 7, \"to\": 0, \"label\": \"integrates_with\"}, {\"from\": 1, \"to\": 2, \"label\": \"integrates_with\"}, {\"from\": 1, \"to\": 2, \"label\": \"integrates_with\"}, {\"from\": 1, \"to\": 0, \"label\": \"integrates_with\"}, {\"from\": 1, \"to\": 0, \"label\": \"integrates_with\"}, {\"from\": 1, \"to\": 0, \"label\": \"integrates_with\"}, {\"from\": 1, \"to\": 0, \"label\": \"integrates_with\"}];\n",
       "\n",
       "    var container = document.getElementById(\"b6ce1ed5-5f31-4ad4-970a-01aca5a177c2\");\n",
       "\n",
       "    var data = {\n",
       "        nodes: nodes,\n",
       "        edges: edges\n",
       "    };\n",
       "\n",
       "    var options = {\n",
       "    nodes: {\n",
       "        shape: 'dot',\n",
       "        size: 25,\n",
       "        font: {\n",
       "            size: 14\n",
       "        }\n",
       "    },\n",
       "    edges: {\n",
       "        font: {\n",
       "            size: 14,\n",
       "            align: 'middle'\n",
       "        },\n",
       "        color: 'gray',\n",
       "        arrows: {\n",
       "            to: {\n",
       "                enabled: true,\n",
       "                scaleFactor: 0.5\n",
       "            }\n",
       "        },\n",
       "        smooth: {\n",
       "            enabled: false\n",
       "        }\n",
       "    },\n",
       "    physics: {\n",
       "        enabled: true\n",
       "        }\n",
       "    };\n",
       "\n",
       "    var network = new vis.Network(container, data, options);\n",
       "\n",
       "</script>\n"
      ],
      "text/plain": [
       "<IPython.core.display.HTML object>"
      ]
     },
     "execution_count": 40,
     "metadata": {},
     "output_type": "execute_result"
    }
   ],
   "source": [
    "#based on https://github.com/merqurio/neo4jupyter\n",
    "#after creating relationships\n",
    "\n",
    "neo4jupyter.init_notebook_mode()\n",
    "graph = Graph(\"bolt://localhost:11003\", auth=(\"autobiodatasets\", \"autobiodatasets\"))\n",
    "neo4jupyter.draw(graph, {\"Dataframe\": \"name\"})"
   ]
  }
 ],
 "metadata": {
  "accelerator": "TPU",
  "colab": {
   "collapsed_sections": [],
   "name": "Copy of Biodata integration Jupyter-iid_partial..ipynb",
   "version": ""
  },
  "kernelspec": {
   "display_name": "Python 3",
   "language": "python",
   "name": "python3"
  },
  "language_info": {
   "codemirror_mode": {
    "name": "ipython",
    "version": 3
   },
   "file_extension": ".py",
   "mimetype": "text/x-python",
   "name": "python",
   "nbconvert_exporter": "python",
   "pygments_lexer": "ipython3",
   "version": "3.8.5"
  }
 },
 "nbformat": 4,
 "nbformat_minor": 1
}
